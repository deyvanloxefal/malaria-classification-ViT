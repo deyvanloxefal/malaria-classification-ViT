{
 "cells": [
  {
   "cell_type": "code",
   "execution_count": null,
   "metadata": {
    "_cell_guid": "b1076dfc-b9ad-4769-8c92-a6c4dae69d19",
    "_uuid": "8f2839f25d086af736a60e9eeb907d3b93b6e0e5",
    "execution": {
     "iopub.execute_input": "2025-06-22T16:37:51.953323Z",
     "iopub.status.busy": "2025-06-22T16:37:51.953049Z",
     "iopub.status.idle": "2025-06-22T16:38:20.104159Z",
     "shell.execute_reply": "2025-06-22T16:38:20.103521Z",
     "shell.execute_reply.started": "2025-06-22T16:37:51.953300Z"
    },
    "trusted": true
   },
   "outputs": [
    {
     "name": "stderr",
     "output_type": "stream",
     "text": [
      "2025-06-22 16:38:04.357172: E external/local_xla/xla/stream_executor/cuda/cuda_fft.cc:477] Unable to register cuFFT factory: Attempting to register factory for plugin cuFFT when one has already been registered\n",
      "WARNING: All log messages before absl::InitializeLog() is called are written to STDERR\n",
      "E0000 00:00:1750610284.589492      35 cuda_dnn.cc:8310] Unable to register cuDNN factory: Attempting to register factory for plugin cuDNN when one has already been registered\n",
      "E0000 00:00:1750610284.658791      35 cuda_blas.cc:1418] Unable to register cuBLAS factory: Attempting to register factory for plugin cuBLAS when one has already been registered\n"
     ]
    }
   ],
   "source": [
    "import os \n",
    "import shutil # Untuk menyalin file nanti (opsional, jika ingin membuat struktur folder train/val/test)\n",
    "import random # Untuk pembagian data\n",
    "import numpy as np\n",
    "import pandas as pd # Berguna untuk manajemen daftar file\n",
    "from PIL import Image # Untuk memuat gambar\n",
    "import copy\n",
    "\n",
    "import torch\n",
    "import torch.nn as nn\n",
    "import torch.optim as optim\n",
    "from torch.utils.data import Dataset, DataLoader\n",
    "from torchvision import transforms as T\n",
    "from transformers import ViTImageProcessor, ViTForImageClassification\n",
    "\n",
    "from sklearn.model_selection import train_test_split\n",
    "from sklearn.metrics import accuracy_score, classification_report, confusion_matrix\n",
    "import matplotlib.pyplot as plt\n",
    "import seaborn as sns\n",
    "from tqdm.auto import tqdm"
   ]
  },
  {
   "cell_type": "markdown",
   "metadata": {},
   "source": [
    "# 1. KONFIGURASI"
   ]
  },
  {
   "cell_type": "code",
   "execution_count": 2,
   "metadata": {
    "execution": {
     "iopub.execute_input": "2025-06-22T16:38:20.105880Z",
     "iopub.status.busy": "2025-06-22T16:38:20.105291Z",
     "iopub.status.idle": "2025-06-22T16:38:20.116083Z",
     "shell.execute_reply": "2025-06-22T16:38:20.115353Z",
     "shell.execute_reply.started": "2025-06-22T16:38:20.105859Z"
    },
    "trusted": true
   },
   "outputs": [
    {
     "name": "stdout",
     "output_type": "stream",
     "text": [
      "Menggunakan device: cuda\n",
      "Model: google/vit-base-patch16-224\n",
      "Jumlah kelas: 2\n",
      "Path model akan disimpan di: /kaggle/working/best_vit_malaria_model_pso.pth\n",
      "Early Stopping Patience: 5, Min Delta: 0.0001\n"
     ]
    }
   ],
   "source": [
    "MODEL_NAME = \"google/vit-base-patch16-224\"\n",
    "NUM_CLASSES = 2  # Parasitized dan Uninfected\n",
    "BATCH_SIZE = 32 # Hasil Optimasi PSO\n",
    "LEARNING_RATE = 0.000092 # Hasil Optimasi PSO\n",
    "NUM_EPOCHS = 50 # Jumlah epoch bisa ditambah karena ada early stopping\n",
    "DEVICE = torch.device(\"cuda\" if torch.cuda.is_available() else \"cpu\")\n",
    "\n",
    "# Path dataset di Kaggle\n",
    "BASE_DATA_DIR = \"/kaggle/input/cell-images-for-detecting-malaria/cell_images/cell_images/\"\n",
    "PARASITIZED_DIR = os.path.join(BASE_DATA_DIR, \"Parasitized\")\n",
    "UNINFECTED_DIR = os.path.join(BASE_DATA_DIR, \"Uninfected\")\n",
    "\n",
    "MODEL_SAVE_PATH = \"/kaggle/working/best_vit_malaria_model_pso.pth\"\n",
    "\n",
    "# Konfigurasi Early Stopping\n",
    "PATIENCE_EARLY_STOPPING = 5\n",
    "DELTA_EARLY_STOPPING = 0.0001 # Akurasi harus meningkat minimal 0.01%\n",
    "\n",
    "print(f\"Menggunakan device: {DEVICE}\")\n",
    "print(f\"Model: {MODEL_NAME}\")\n",
    "print(f\"Jumlah kelas: {NUM_CLASSES}\")\n",
    "print(f\"Path model akan disimpan di: {MODEL_SAVE_PATH}\")\n",
    "print(f\"Early Stopping Patience: {PATIENCE_EARLY_STOPPING}, Min Delta: {DELTA_EARLY_STOPPING}\")\n",
    "\n",
    "# --- Kelas EarlyStopping ---\n",
    "class EarlyStopping:\n",
    "    def __init__(self, patience=7, verbose=True, delta=0, path='checkpoint.pt', trace_func=print, mode='max'):\n",
    "        self.patience = patience\n",
    "        self.verbose = verbose\n",
    "        self.counter = 0\n",
    "        self.best_score = None\n",
    "        self.early_stop = False\n",
    "        self.val_metric_at_best_score = -np.Inf if mode == 'max' else np.Inf\n",
    "        self.delta = delta\n",
    "        self.path = path\n",
    "        self.trace_func = trace_func\n",
    "        self.mode = mode\n",
    "        self.best_model_wts = None\n",
    "\n",
    "    def __call__(self, val_metric, model):\n",
    "        score = val_metric\n",
    "        is_improvement = False\n",
    "        if self.mode == 'max':\n",
    "            if score > self.val_metric_at_best_score + self.delta:\n",
    "                is_improvement = True\n",
    "        else:\n",
    "            if score < self.val_metric_at_best_score - self.delta:\n",
    "                is_improvement = True\n",
    "\n",
    "        if self.best_score is None:\n",
    "            self.best_score = score\n",
    "            if is_improvement or self.val_metric_at_best_score == (-np.Inf if self.mode == 'max' else np.Inf):\n",
    "                 self.val_metric_at_best_score = score\n",
    "                 self.save_checkpoint(val_metric, model)\n",
    "        elif is_improvement:\n",
    "            if self.verbose:\n",
    "                self.trace_func(f'Validation metric ({self.mode}) improved ({self.val_metric_at_best_score:.6f} --> {score:.6f}). Menyimpan model ke {self.path} ...')\n",
    "            self.best_score = score\n",
    "            self.val_metric_at_best_score = score\n",
    "            self.save_checkpoint(val_metric, model)\n",
    "            self.counter = 0\n",
    "        else:\n",
    "            self.counter += 1\n",
    "            if self.verbose:\n",
    "                self.trace_func(f'EarlyStopping counter: {self.counter} dari {self.patience}')\n",
    "            if self.counter >= self.patience:\n",
    "                self.early_stop = True\n",
    "\n",
    "    def save_checkpoint(self, val_metric, model):\n",
    "        self.best_model_wts = copy.deepcopy(model.state_dict())\n",
    "        torch.save(self.best_model_wts, self.path)"
   ]
  },
  {
   "cell_type": "markdown",
   "metadata": {},
   "source": [
    "# 2. MEMUAT IMAGE PROCESSOR DAN MODEL"
   ]
  },
  {
   "cell_type": "code",
   "execution_count": 3,
   "metadata": {
    "execution": {
     "iopub.execute_input": "2025-06-22T16:38:20.117033Z",
     "iopub.status.busy": "2025-06-22T16:38:20.116807Z",
     "iopub.status.idle": "2025-06-22T16:38:23.447854Z",
     "shell.execute_reply": "2025-06-22T16:38:23.447087Z",
     "shell.execute_reply.started": "2025-06-22T16:38:20.117016Z"
    },
    "trusted": true
   },
   "outputs": [
    {
     "data": {
      "application/vnd.jupyter.widget-view+json": {
       "model_id": "99a0832e0b7a4d1a9dba7917507f8200",
       "version_major": 2,
       "version_minor": 0
      },
      "text/plain": [
       "preprocessor_config.json:   0%|          | 0.00/160 [00:00<?, ?B/s]"
      ]
     },
     "metadata": {},
     "output_type": "display_data"
    },
    {
     "data": {
      "application/vnd.jupyter.widget-view+json": {
       "model_id": "183df379e9a74069ae5e41ac8d564975",
       "version_major": 2,
       "version_minor": 0
      },
      "text/plain": [
       "config.json:   0%|          | 0.00/69.7k [00:00<?, ?B/s]"
      ]
     },
     "metadata": {},
     "output_type": "display_data"
    },
    {
     "data": {
      "application/vnd.jupyter.widget-view+json": {
       "model_id": "c306ab3164c04a4f9efe9c8269e92711",
       "version_major": 2,
       "version_minor": 0
      },
      "text/plain": [
       "model.safetensors:   0%|          | 0.00/346M [00:00<?, ?B/s]"
      ]
     },
     "metadata": {},
     "output_type": "display_data"
    },
    {
     "name": "stderr",
     "output_type": "stream",
     "text": [
      "Some weights of ViTForImageClassification were not initialized from the model checkpoint at google/vit-base-patch16-224 and are newly initialized because the shapes did not match:\n",
      "- classifier.bias: found shape torch.Size([1000]) in the checkpoint and torch.Size([2]) in the model instantiated\n",
      "- classifier.weight: found shape torch.Size([1000, 768]) in the checkpoint and torch.Size([2, 768]) in the model instantiated\n",
      "You should probably TRAIN this model on a down-stream task to be able to use it for predictions and inference.\n"
     ]
    }
   ],
   "source": [
    "try:\n",
    "    image_processor = ViTImageProcessor.from_pretrained(MODEL_NAME)\n",
    "    model = ViTForImageClassification.from_pretrained(\n",
    "        MODEL_NAME,\n",
    "        num_labels=NUM_CLASSES,\n",
    "        ignore_mismatched_sizes=True # Penting jika mengganti head klasifikasi\n",
    "    )\n",
    "    model.to(DEVICE)\n",
    "except Exception as e:\n",
    "    print(f\"Error saat memuat model atau processor: {e}\")\n",
    "    print(\"Pastikan Anda memiliki koneksi internet (di Kaggle, aktifkan di Settings).\")\n",
    "    # exit() # Sebaiknya jangan exit di notebook, biarkan error muncul"
   ]
  },
  {
   "cell_type": "markdown",
   "metadata": {},
   "source": [
    "# 3. PERSIAPAN DATA"
   ]
  },
  {
   "cell_type": "code",
   "execution_count": 4,
   "metadata": {
    "execution": {
     "iopub.execute_input": "2025-06-22T16:38:23.449945Z",
     "iopub.status.busy": "2025-06-22T16:38:23.449673Z",
     "iopub.status.idle": "2025-06-22T16:38:25.730802Z",
     "shell.execute_reply": "2025-06-22T16:38:25.730065Z",
     "shell.execute_reply.started": "2025-06-22T16:38:23.449926Z"
    },
    "trusted": true
   },
   "outputs": [
    {
     "name": "stdout",
     "output_type": "stream",
     "text": [
      "Jumlah data train: 22046\n",
      "Jumlah data validation: 2756\n",
      "Jumlah data test: 2756\n",
      "Target size untuk augmentasi (RandomResizedCrop): (224, 224)\n",
      "Jumlah batch di train_loader: 689\n",
      "Contoh data dari train_loader (1 batch):\n",
      "Bentuk tensor gambar: torch.Size([32, 3, 224, 224]), Bentuk tensor label: torch.Size([32])\n"
     ]
    }
   ],
   "source": [
    "# Mendapatkan daftar semua file gambar dan labelnya\n",
    "parasitized_files = [os.path.join(PARASITIZED_DIR, f) for f in os.listdir(PARASITIZED_DIR) if f.endswith('.png')]\n",
    "uninfected_files = [os.path.join(UNINFECTED_DIR, f) for f in os.listdir(UNINFECTED_DIR) if f.endswith('.png')]\n",
    "\n",
    "# Label: 0 untuk Parasitized, 1 untuk Uninfected (atau sebaliknya, pastikan konsisten)\n",
    "# Mari kita gunakan: Parasitized = 0, Uninfected = 1\n",
    "# Jika menggunakan ImageFolder, urutan kelas biasanya alfabetis.\n",
    "# Di sini kita kontrol manual, jadi lebih fleksibel.\n",
    "# Kelas yang diharapkan oleh model (jika ImageFolder): {'Parasitized': 0, 'Uninfected': 1}\n",
    "# Kita akan buat label: Parasitized = 0, Uninfected = 1\n",
    "labels_parasitized = [0] * len(parasitized_files)\n",
    "labels_uninfected = [1] * len(uninfected_files)\n",
    "\n",
    "all_files = parasitized_files + uninfected_files\n",
    "all_labels = labels_parasitized + labels_uninfected\n",
    "\n",
    "# Pembagian data: 80% train, 10% validation, 10% test\n",
    "# Pertama, bagi menjadi train dan temp (val+test)\n",
    "train_files, temp_files, train_labels, temp_labels = train_test_split(\n",
    "    all_files, all_labels, test_size=0.2, stratify=all_labels, random_state=42\n",
    ")\n",
    "# Kemudian, bagi temp menjadi validation dan test\n",
    "val_files, test_files, val_labels, test_labels = train_test_split(\n",
    "    temp_files, temp_labels, test_size=0.5, stratify=temp_labels, random_state=42 # 0.5 dari 0.2 = 0.1\n",
    ")\n",
    "\n",
    "print(f\"Jumlah data train: {len(train_files)}\")\n",
    "print(f\"Jumlah data validation: {len(val_files)}\")\n",
    "print(f\"Jumlah data test: {len(test_files)}\")\n",
    "\n",
    "# --- Dataset Kustom PyTorch ---\n",
    "class MalariaDataset(Dataset):\n",
    "    def __init__(self, file_paths, labels, transform=None):\n",
    "        self.file_paths = file_paths\n",
    "        self.labels = labels\n",
    "        self.transform = transform\n",
    "        # Tentukan class_to_idx agar konsisten dengan apa yang mungkin dihasilkan ImageFolder\n",
    "        self.class_to_idx = {'Parasitized': 0, 'Uninfected': 1}\n",
    "        self.classes = ['Parasitized', 'Uninfected']\n",
    "\n",
    "\n",
    "    def __len__(self):\n",
    "        return len(self.file_paths)\n",
    "\n",
    "    def __getitem__(self, idx):\n",
    "        img_path = self.file_paths[idx]\n",
    "        try:\n",
    "            image = Image.open(img_path).convert(\"RGB\") # Pastikan RGB\n",
    "        except FileNotFoundError:\n",
    "            print(f\"Error: File tidak ditemukan di {img_path}\")\n",
    "            # Kembalikan dummy data atau raise error\n",
    "            # Untuk sekarang, kita raise error agar masalah diketahui\n",
    "            raise FileNotFoundError(f\"File tidak ditemukan {img_path}\")\n",
    "        except Exception as e:\n",
    "            print(f\"Error saat memuat gambar {img_path}: {e}\")\n",
    "            # Kembalikan dummy data atau raise error\n",
    "            raise e\n",
    "\n",
    "\n",
    "        label = self.labels[idx]\n",
    "        if self.transform:\n",
    "            image = self.transform(image)\n",
    "        return image, label\n",
    "\n",
    "# --- Transformasi Data ---\n",
    "def vit_core_processor_transform(pil_image, processor):\n",
    "    # image_processor sudah menghandle konversi ke RGB jika inputnya PIL Image\n",
    "    # dan parameternya do_convert_rgb=True (default)\n",
    "    # return processor(images=pil_image, return_tensors='pt')['pixel_values'].squeeze(0) # squeeze(0) jika batch_size=1\n",
    "    # Jika dipanggil dari transform di Dataset, yang diproses satu gambar, maka squeeze(0) benar.\n",
    "    # Untuk ViTImageProcessor, dia bisa handle PIL image langsung.\n",
    "    processed_output = processor(images=pil_image, return_tensors='pt')\n",
    "    return processed_output['pixel_values'].squeeze(0)\n",
    "\n",
    "\n",
    "try:\n",
    "    if isinstance(image_processor.size, dict):\n",
    "        if 'height' in image_processor.size and 'width' in image_processor.size:\n",
    "            target_size = (image_processor.size['height'], image_processor.size['width'])\n",
    "        elif 'shortest_edge' in image_processor.size:\n",
    "            s_edge = image_processor.size['shortest_edge']\n",
    "            target_size = (s_edge, s_edge)\n",
    "        else: target_size = (224, 224) # Fallback\n",
    "    elif isinstance(image_processor.size, int): target_size = (image_processor.size, image_processor.size)\n",
    "    else: target_size = (224, 224) # Fallback\n",
    "except AttributeError: target_size = (224, 224) # Fallback\n",
    "except Exception: target_size = (224, 224) # Fallback\n",
    "\n",
    "print(f\"Target size untuk augmentasi (RandomResizedCrop): {target_size}\")\n",
    "\n",
    "train_transforms = T.Compose([\n",
    "    T.RandomResizedCrop(target_size, scale=(0.8, 1.0), ratio=(0.75, 1.33)),\n",
    "    T.RandomRotation(degrees=20), # Tingkatkan sedikit rotasi\n",
    "    T.ColorJitter(brightness=0.25, contrast=0.25, saturation=0.25, hue=0.12), # Tingkatkan sedikit jitter\n",
    "    T.RandomHorizontalFlip(),\n",
    "    T.RandomVerticalFlip(), # Tambahkan vertical flip, bisa relevan untuk sel\n",
    "    lambda img: vit_core_processor_transform(img, image_processor)\n",
    "])\n",
    "\n",
    "val_test_transforms = T.Compose([\n",
    "    # ViTImageProcessor akan menangani resize ke target_size yang sesuai konfigurasinya\n",
    "    lambda img: vit_core_processor_transform(img, image_processor)\n",
    "])\n",
    "\n",
    "# Membuat instance Dataset\n",
    "train_dataset = MalariaDataset(train_files, train_labels, transform=train_transforms)\n",
    "val_dataset = MalariaDataset(val_files, val_labels, transform=val_test_transforms)\n",
    "test_dataset = MalariaDataset(test_files, test_labels, transform=val_test_transforms)\n",
    "\n",
    "# Membuat DataLoader\n",
    "train_loader = DataLoader(train_dataset, batch_size=BATCH_SIZE, shuffle=True, num_workers=0) # num_workers=2 standar di Kaggle\n",
    "val_loader = DataLoader(val_dataset, batch_size=BATCH_SIZE, shuffle=False, num_workers=0)\n",
    "test_loader = DataLoader(test_dataset, batch_size=BATCH_SIZE, shuffle=False, num_workers=0)\n",
    "\n",
    "print(f\"Jumlah batch di train_loader: {len(train_loader)}\")\n",
    "print(f\"Contoh data dari train_loader (1 batch):\")\n",
    "try:\n",
    "    sample_images, sample_labels = next(iter(train_loader))\n",
    "    print(f\"Bentuk tensor gambar: {sample_images.shape}, Bentuk tensor label: {sample_labels.shape}\")\n",
    "except Exception as e:\n",
    "    print(f\"Error saat mengambil sampel dari train_loader: {e}\")"
   ]
  },
  {
   "cell_type": "markdown",
   "metadata": {},
   "source": [
    "# 4. TRAINING"
   ]
  },
  {
   "cell_type": "code",
   "execution_count": 5,
   "metadata": {
    "execution": {
     "iopub.execute_input": "2025-06-22T16:38:25.731810Z",
     "iopub.status.busy": "2025-06-22T16:38:25.731526Z",
     "iopub.status.idle": "2025-06-22T19:25:34.159006Z",
     "shell.execute_reply": "2025-06-22T19:25:34.158159Z",
     "shell.execute_reply.started": "2025-06-22T16:38:25.731781Z"
    },
    "trusted": true
   },
   "outputs": [
    {
     "name": "stdout",
     "output_type": "stream",
     "text": [
      "\n",
      "Memulai Training...\n"
     ]
    },
    {
     "data": {
      "application/vnd.jupyter.widget-view+json": {
       "model_id": "bc988fdf66434e768ebfc6651f691d5b",
       "version_major": 2,
       "version_minor": 0
      },
      "text/plain": [
       "Epoch 1/50 [Training]:   0%|          | 0/689 [00:00<?, ?it/s]"
      ]
     },
     "metadata": {},
     "output_type": "display_data"
    },
    {
     "data": {
      "application/vnd.jupyter.widget-view+json": {
       "model_id": "f60f071c9f31499fa69e450a291274e1",
       "version_major": 2,
       "version_minor": 0
      },
      "text/plain": [
       "Epoch 1/50 [Validasi]:   0%|          | 0/87 [00:00<?, ?it/s]"
      ]
     },
     "metadata": {},
     "output_type": "display_data"
    },
    {
     "name": "stdout",
     "output_type": "stream",
     "text": [
      "Epoch 1/50 - Train Loss: 0.1262, Train Acc: 0.9566 - Val Loss: 0.1576, Val Acc: 0.9492\n"
     ]
    },
    {
     "data": {
      "application/vnd.jupyter.widget-view+json": {
       "model_id": "8fcc7454cd014da09c57a9c0a5fb2872",
       "version_major": 2,
       "version_minor": 0
      },
      "text/plain": [
       "Epoch 2/50 [Training]:   0%|          | 0/689 [00:00<?, ?it/s]"
      ]
     },
     "metadata": {},
     "output_type": "display_data"
    },
    {
     "data": {
      "application/vnd.jupyter.widget-view+json": {
       "model_id": "13751df4ff4642bb95274354526136f8",
       "version_major": 2,
       "version_minor": 0
      },
      "text/plain": [
       "Epoch 2/50 [Validasi]:   0%|          | 0/87 [00:00<?, ?it/s]"
      ]
     },
     "metadata": {},
     "output_type": "display_data"
    },
    {
     "name": "stdout",
     "output_type": "stream",
     "text": [
      "Epoch 2/50 - Train Loss: 0.0995, Train Acc: 0.9654 - Val Loss: 0.0911, Val Acc: 0.9677\n",
      "Validation metric (max) improved (0.949202 --> 0.967707). Menyimpan model ke /kaggle/working/best_vit_malaria_model_pso.pth ...\n"
     ]
    },
    {
     "data": {
      "application/vnd.jupyter.widget-view+json": {
       "model_id": "722f71d9c991448ba567fc5cea8badae",
       "version_major": 2,
       "version_minor": 0
      },
      "text/plain": [
       "Epoch 3/50 [Training]:   0%|          | 0/689 [00:00<?, ?it/s]"
      ]
     },
     "metadata": {},
     "output_type": "display_data"
    },
    {
     "data": {
      "application/vnd.jupyter.widget-view+json": {
       "model_id": "cf81ab31b4ed4348a357651440e3cadf",
       "version_major": 2,
       "version_minor": 0
      },
      "text/plain": [
       "Epoch 3/50 [Validasi]:   0%|          | 0/87 [00:00<?, ?it/s]"
      ]
     },
     "metadata": {},
     "output_type": "display_data"
    },
    {
     "name": "stdout",
     "output_type": "stream",
     "text": [
      "Epoch 3/50 - Train Loss: 0.0935, Train Acc: 0.9666 - Val Loss: 0.0849, Val Acc: 0.9677\n",
      "EarlyStopping counter: 1 dari 5\n"
     ]
    },
    {
     "data": {
      "application/vnd.jupyter.widget-view+json": {
       "model_id": "cc9527785ed045d4a740c1e6722606c2",
       "version_major": 2,
       "version_minor": 0
      },
      "text/plain": [
       "Epoch 4/50 [Training]:   0%|          | 0/689 [00:00<?, ?it/s]"
      ]
     },
     "metadata": {},
     "output_type": "display_data"
    },
    {
     "data": {
      "application/vnd.jupyter.widget-view+json": {
       "model_id": "1154be3e9a58406d8b63effe91de7246",
       "version_major": 2,
       "version_minor": 0
      },
      "text/plain": [
       "Epoch 4/50 [Validasi]:   0%|          | 0/87 [00:00<?, ?it/s]"
      ]
     },
     "metadata": {},
     "output_type": "display_data"
    },
    {
     "name": "stdout",
     "output_type": "stream",
     "text": [
      "Epoch 4/50 - Train Loss: 0.0875, Train Acc: 0.9687 - Val Loss: 0.0793, Val Acc: 0.9724\n",
      "Validation metric (max) improved (0.967707 --> 0.972424). Menyimpan model ke /kaggle/working/best_vit_malaria_model_pso.pth ...\n"
     ]
    },
    {
     "data": {
      "application/vnd.jupyter.widget-view+json": {
       "model_id": "f63b7e4725864fadb2dd4e8bdef7faab",
       "version_major": 2,
       "version_minor": 0
      },
      "text/plain": [
       "Epoch 5/50 [Training]:   0%|          | 0/689 [00:00<?, ?it/s]"
      ]
     },
     "metadata": {},
     "output_type": "display_data"
    },
    {
     "data": {
      "application/vnd.jupyter.widget-view+json": {
       "model_id": "19bb9a501e8f48398de4f023ff9190b6",
       "version_major": 2,
       "version_minor": 0
      },
      "text/plain": [
       "Epoch 5/50 [Validasi]:   0%|          | 0/87 [00:00<?, ?it/s]"
      ]
     },
     "metadata": {},
     "output_type": "display_data"
    },
    {
     "name": "stdout",
     "output_type": "stream",
     "text": [
      "Epoch 5/50 - Train Loss: 0.0869, Train Acc: 0.9698 - Val Loss: 0.0830, Val Acc: 0.9713\n",
      "EarlyStopping counter: 1 dari 5\n"
     ]
    },
    {
     "data": {
      "application/vnd.jupyter.widget-view+json": {
       "model_id": "3644871af800444f834a007557c64abc",
       "version_major": 2,
       "version_minor": 0
      },
      "text/plain": [
       "Epoch 6/50 [Training]:   0%|          | 0/689 [00:00<?, ?it/s]"
      ]
     },
     "metadata": {},
     "output_type": "display_data"
    },
    {
     "data": {
      "application/vnd.jupyter.widget-view+json": {
       "model_id": "d5a490eccd2a46b7b2be498a6230dc5c",
       "version_major": 2,
       "version_minor": 0
      },
      "text/plain": [
       "Epoch 6/50 [Validasi]:   0%|          | 0/87 [00:00<?, ?it/s]"
      ]
     },
     "metadata": {},
     "output_type": "display_data"
    },
    {
     "name": "stdout",
     "output_type": "stream",
     "text": [
      "Epoch 6/50 - Train Loss: 0.0829, Train Acc: 0.9713 - Val Loss: 0.0748, Val Acc: 0.9728\n",
      "Validation metric (max) improved (0.972424 --> 0.972787). Menyimpan model ke /kaggle/working/best_vit_malaria_model_pso.pth ...\n"
     ]
    },
    {
     "data": {
      "application/vnd.jupyter.widget-view+json": {
       "model_id": "4edc27294c3542b9b65e91a538ea7a43",
       "version_major": 2,
       "version_minor": 0
      },
      "text/plain": [
       "Epoch 7/50 [Training]:   0%|          | 0/689 [00:00<?, ?it/s]"
      ]
     },
     "metadata": {},
     "output_type": "display_data"
    },
    {
     "data": {
      "application/vnd.jupyter.widget-view+json": {
       "model_id": "f4bc7a0d2db84b8a87bd5acf7da6bf41",
       "version_major": 2,
       "version_minor": 0
      },
      "text/plain": [
       "Epoch 7/50 [Validasi]:   0%|          | 0/87 [00:00<?, ?it/s]"
      ]
     },
     "metadata": {},
     "output_type": "display_data"
    },
    {
     "name": "stdout",
     "output_type": "stream",
     "text": [
      "Epoch 7/50 - Train Loss: 0.0800, Train Acc: 0.9715 - Val Loss: 0.0996, Val Acc: 0.9644\n",
      "EarlyStopping counter: 1 dari 5\n"
     ]
    },
    {
     "data": {
      "application/vnd.jupyter.widget-view+json": {
       "model_id": "7d1e96c6840d47ed9950d1c580b82858",
       "version_major": 2,
       "version_minor": 0
      },
      "text/plain": [
       "Epoch 8/50 [Training]:   0%|          | 0/689 [00:00<?, ?it/s]"
      ]
     },
     "metadata": {},
     "output_type": "display_data"
    },
    {
     "data": {
      "application/vnd.jupyter.widget-view+json": {
       "model_id": "d70481072b92457c9120f0aa0b02f791",
       "version_major": 2,
       "version_minor": 0
      },
      "text/plain": [
       "Epoch 8/50 [Validasi]:   0%|          | 0/87 [00:00<?, ?it/s]"
      ]
     },
     "metadata": {},
     "output_type": "display_data"
    },
    {
     "name": "stdout",
     "output_type": "stream",
     "text": [
      "Epoch 8/50 - Train Loss: 0.0778, Train Acc: 0.9717 - Val Loss: 0.0857, Val Acc: 0.9695\n",
      "EarlyStopping counter: 2 dari 5\n"
     ]
    },
    {
     "data": {
      "application/vnd.jupyter.widget-view+json": {
       "model_id": "502e42bdd3f74e838e98d2dee3d8f690",
       "version_major": 2,
       "version_minor": 0
      },
      "text/plain": [
       "Epoch 9/50 [Training]:   0%|          | 0/689 [00:00<?, ?it/s]"
      ]
     },
     "metadata": {},
     "output_type": "display_data"
    },
    {
     "data": {
      "application/vnd.jupyter.widget-view+json": {
       "model_id": "cda4caf348234ab7ae58407c6a2714c2",
       "version_major": 2,
       "version_minor": 0
      },
      "text/plain": [
       "Epoch 9/50 [Validasi]:   0%|          | 0/87 [00:00<?, ?it/s]"
      ]
     },
     "metadata": {},
     "output_type": "display_data"
    },
    {
     "name": "stdout",
     "output_type": "stream",
     "text": [
      "Epoch 9/50 - Train Loss: 0.0730, Train Acc: 0.9739 - Val Loss: 0.0890, Val Acc: 0.9688\n",
      "EarlyStopping counter: 3 dari 5\n"
     ]
    },
    {
     "data": {
      "application/vnd.jupyter.widget-view+json": {
       "model_id": "989aada9ee0c4e569e99a272b0fb5368",
       "version_major": 2,
       "version_minor": 0
      },
      "text/plain": [
       "Epoch 10/50 [Training]:   0%|          | 0/689 [00:00<?, ?it/s]"
      ]
     },
     "metadata": {},
     "output_type": "display_data"
    },
    {
     "data": {
      "application/vnd.jupyter.widget-view+json": {
       "model_id": "fcdcd9087e7b4372b425753ef767e0ca",
       "version_major": 2,
       "version_minor": 0
      },
      "text/plain": [
       "Epoch 10/50 [Validasi]:   0%|          | 0/87 [00:00<?, ?it/s]"
      ]
     },
     "metadata": {},
     "output_type": "display_data"
    },
    {
     "name": "stdout",
     "output_type": "stream",
     "text": [
      "Epoch 10/50 - Train Loss: 0.0735, Train Acc: 0.9736 - Val Loss: 0.0767, Val Acc: 0.9746\n",
      "Validation metric (max) improved (0.972787 --> 0.974601). Menyimpan model ke /kaggle/working/best_vit_malaria_model_pso.pth ...\n"
     ]
    },
    {
     "data": {
      "application/vnd.jupyter.widget-view+json": {
       "model_id": "37fcba249f454dc6a3724047b56618c7",
       "version_major": 2,
       "version_minor": 0
      },
      "text/plain": [
       "Epoch 11/50 [Training]:   0%|          | 0/689 [00:00<?, ?it/s]"
      ]
     },
     "metadata": {},
     "output_type": "display_data"
    },
    {
     "data": {
      "application/vnd.jupyter.widget-view+json": {
       "model_id": "0f51ec63da644131a25326d4ec839119",
       "version_major": 2,
       "version_minor": 0
      },
      "text/plain": [
       "Epoch 11/50 [Validasi]:   0%|          | 0/87 [00:00<?, ?it/s]"
      ]
     },
     "metadata": {},
     "output_type": "display_data"
    },
    {
     "name": "stdout",
     "output_type": "stream",
     "text": [
      "Epoch 11/50 - Train Loss: 0.0702, Train Acc: 0.9746 - Val Loss: 0.0839, Val Acc: 0.9735\n",
      "EarlyStopping counter: 1 dari 5\n"
     ]
    },
    {
     "data": {
      "application/vnd.jupyter.widget-view+json": {
       "model_id": "91a1e132e90f4b26984901033f054604",
       "version_major": 2,
       "version_minor": 0
      },
      "text/plain": [
       "Epoch 12/50 [Training]:   0%|          | 0/689 [00:00<?, ?it/s]"
      ]
     },
     "metadata": {},
     "output_type": "display_data"
    },
    {
     "data": {
      "application/vnd.jupyter.widget-view+json": {
       "model_id": "050812fdccd944c394a4806cafd74624",
       "version_major": 2,
       "version_minor": 0
      },
      "text/plain": [
       "Epoch 12/50 [Validasi]:   0%|          | 0/87 [00:00<?, ?it/s]"
      ]
     },
     "metadata": {},
     "output_type": "display_data"
    },
    {
     "name": "stdout",
     "output_type": "stream",
     "text": [
      "Epoch 12/50 - Train Loss: 0.0685, Train Acc: 0.9753 - Val Loss: 0.0754, Val Acc: 0.9713\n",
      "EarlyStopping counter: 2 dari 5\n"
     ]
    },
    {
     "data": {
      "application/vnd.jupyter.widget-view+json": {
       "model_id": "7e287c3e973f4c27af73f98c1c8843d7",
       "version_major": 2,
       "version_minor": 0
      },
      "text/plain": [
       "Epoch 13/50 [Training]:   0%|          | 0/689 [00:00<?, ?it/s]"
      ]
     },
     "metadata": {},
     "output_type": "display_data"
    },
    {
     "data": {
      "application/vnd.jupyter.widget-view+json": {
       "model_id": "1135f2223bab4461ad4b087a9d1cecb8",
       "version_major": 2,
       "version_minor": 0
      },
      "text/plain": [
       "Epoch 13/50 [Validasi]:   0%|          | 0/87 [00:00<?, ?it/s]"
      ]
     },
     "metadata": {},
     "output_type": "display_data"
    },
    {
     "name": "stdout",
     "output_type": "stream",
     "text": [
      "Epoch 13/50 - Train Loss: 0.0667, Train Acc: 0.9764 - Val Loss: 0.0877, Val Acc: 0.9673\n",
      "EarlyStopping counter: 3 dari 5\n"
     ]
    },
    {
     "data": {
      "application/vnd.jupyter.widget-view+json": {
       "model_id": "f9b8992fe5934f80819872703e4eece4",
       "version_major": 2,
       "version_minor": 0
      },
      "text/plain": [
       "Epoch 14/50 [Training]:   0%|          | 0/689 [00:00<?, ?it/s]"
      ]
     },
     "metadata": {},
     "output_type": "display_data"
    },
    {
     "data": {
      "application/vnd.jupyter.widget-view+json": {
       "model_id": "08ee7b22eae24060b8802250f9a2951c",
       "version_major": 2,
       "version_minor": 0
      },
      "text/plain": [
       "Epoch 14/50 [Validasi]:   0%|          | 0/87 [00:00<?, ?it/s]"
      ]
     },
     "metadata": {},
     "output_type": "display_data"
    },
    {
     "name": "stdout",
     "output_type": "stream",
     "text": [
      "Epoch 14/50 - Train Loss: 0.0655, Train Acc: 0.9768 - Val Loss: 0.0821, Val Acc: 0.9710\n",
      "EarlyStopping counter: 4 dari 5\n"
     ]
    },
    {
     "data": {
      "application/vnd.jupyter.widget-view+json": {
       "model_id": "8c02968dea9243908188b0f625f20871",
       "version_major": 2,
       "version_minor": 0
      },
      "text/plain": [
       "Epoch 15/50 [Training]:   0%|          | 0/689 [00:00<?, ?it/s]"
      ]
     },
     "metadata": {},
     "output_type": "display_data"
    },
    {
     "data": {
      "application/vnd.jupyter.widget-view+json": {
       "model_id": "48162036fb1a4735a59f0f9872341a35",
       "version_major": 2,
       "version_minor": 0
      },
      "text/plain": [
       "Epoch 15/50 [Validasi]:   0%|          | 0/87 [00:00<?, ?it/s]"
      ]
     },
     "metadata": {},
     "output_type": "display_data"
    },
    {
     "name": "stdout",
     "output_type": "stream",
     "text": [
      "Epoch 15/50 - Train Loss: 0.0648, Train Acc: 0.9773 - Val Loss: 0.1093, Val Acc: 0.9565\n",
      "EarlyStopping counter: 5 dari 5\n",
      "Early stopping dipicu.\n",
      "Training Selesai.\n"
     ]
    }
   ],
   "source": [
    "optimizer = optim.Adam(model.parameters(), lr=LEARNING_RATE)\n",
    "criterion = nn.CrossEntropyLoss()\n",
    "\n",
    "train_losses, val_losses = [], []\n",
    "train_accuracies, val_accuracies = [], []\n",
    "\n",
    "early_stopper = EarlyStopping(\n",
    "    patience=PATIENCE_EARLY_STOPPING,\n",
    "    verbose=True,\n",
    "    delta=DELTA_EARLY_STOPPING,\n",
    "    path=MODEL_SAVE_PATH,\n",
    "    mode='max'\n",
    ")\n",
    "\n",
    "print(\"\\nMemulai Training...\")\n",
    "for epoch in range(NUM_EPOCHS):\n",
    "    model.train()\n",
    "    running_train_loss = 0.0\n",
    "    train_preds_all, train_labels_all = [], []\n",
    "    train_pbar = tqdm(train_loader, desc=f\"Epoch {epoch+1}/{NUM_EPOCHS} [Training]\")\n",
    "\n",
    "    for inputs, labels in train_pbar:\n",
    "        inputs, labels = inputs.to(DEVICE), labels.to(DEVICE)\n",
    "        optimizer.zero_grad()\n",
    "        outputs = model(pixel_values=inputs)\n",
    "        logits = outputs.logits\n",
    "        loss = criterion(logits, labels)\n",
    "        loss.backward()\n",
    "        optimizer.step()\n",
    "\n",
    "        running_train_loss += loss.item() * inputs.size(0)\n",
    "        _, preds = torch.max(logits, 1)\n",
    "        train_preds_all.extend(preds.cpu().numpy())\n",
    "        train_labels_all.extend(labels.cpu().numpy())\n",
    "        train_pbar.set_postfix({'loss': loss.item()})\n",
    "\n",
    "    epoch_train_loss = running_train_loss / len(train_dataset)\n",
    "    epoch_train_accuracy = accuracy_score(train_labels_all, train_preds_all)\n",
    "    train_losses.append(epoch_train_loss)\n",
    "    train_accuracies.append(epoch_train_accuracy)\n",
    "\n",
    "    model.eval()\n",
    "    running_val_loss = 0.0\n",
    "    val_preds_all, val_labels_all = [], []\n",
    "    val_pbar = tqdm(val_loader, desc=f\"Epoch {epoch+1}/{NUM_EPOCHS} [Validasi]\")\n",
    "    with torch.no_grad():\n",
    "        for inputs, labels in val_pbar:\n",
    "            inputs, labels = inputs.to(DEVICE), labels.to(DEVICE)\n",
    "            outputs = model(pixel_values=inputs)\n",
    "            logits = outputs.logits\n",
    "            loss = criterion(logits, labels)\n",
    "            running_val_loss += loss.item() * inputs.size(0)\n",
    "            _, preds = torch.max(logits, 1)\n",
    "            val_preds_all.extend(preds.cpu().numpy())\n",
    "            val_labels_all.extend(labels.cpu().numpy())\n",
    "            val_pbar.set_postfix({'loss': loss.item()})\n",
    "\n",
    "    epoch_val_loss = running_val_loss / len(val_dataset)\n",
    "    epoch_val_accuracy = accuracy_score(val_labels_all, val_preds_all)\n",
    "    val_losses.append(epoch_val_loss)\n",
    "    val_accuracies.append(epoch_val_accuracy)\n",
    "\n",
    "    print(f\"Epoch {epoch+1}/{NUM_EPOCHS} - \"\n",
    "          f\"Train Loss: {epoch_train_loss:.4f}, Train Acc: {epoch_train_accuracy:.4f} - \"\n",
    "          f\"Val Loss: {epoch_val_loss:.4f}, Val Acc: {epoch_val_accuracy:.4f}\")\n",
    "\n",
    "    early_stopper(epoch_val_accuracy, model)\n",
    "    if early_stopper.early_stop:\n",
    "        print(\"Early stopping dipicu.\")\n",
    "        break\n",
    "\n",
    "print(\"Training Selesai.\")"
   ]
  },
  {
   "cell_type": "markdown",
   "metadata": {},
   "source": [
    "# 5. VISUALISASI HASIL TRAINING"
   ]
  },
  {
   "cell_type": "code",
   "execution_count": 6,
   "metadata": {
    "execution": {
     "iopub.execute_input": "2025-06-22T19:25:34.160535Z",
     "iopub.status.busy": "2025-06-22T19:25:34.160254Z",
     "iopub.status.idle": "2025-06-22T19:25:34.615593Z",
     "shell.execute_reply": "2025-06-22T19:25:34.614800Z",
     "shell.execute_reply.started": "2025-06-22T19:25:34.160514Z"
    },
    "trusted": true
   },
   "outputs": [
    {
     "data": {
      "image/png": "[encoded data removed]",
      "text/plain": [
       "<Figure size 1200x500 with 2 Axes>"
      ]
     },
     "metadata": {},
     "output_type": "display_data"
    }
   ],
   "source": [
    "actual_epochs = len(train_losses)\n",
    "plt.figure(figsize=(12, 5))\n",
    "plt.subplot(1, 2, 1)\n",
    "plt.plot(range(1, actual_epochs + 1), train_losses, label='Train Loss')\n",
    "plt.plot(range(1, actual_epochs + 1), val_losses, label='Validation Loss')\n",
    "plt.xlabel('Epoch')\n",
    "plt.ylabel('Loss')\n",
    "plt.title('Training & Validation Loss')\n",
    "plt.legend(); plt.grid(True)\n",
    "\n",
    "plt.subplot(1, 2, 2)\n",
    "plt.plot(range(1, actual_epochs + 1), train_accuracies, label='Train Accuracy')\n",
    "plt.plot(range(1, actual_epochs + 1), val_accuracies, label='Validation Accuracy')\n",
    "plt.xlabel('Epoch'); plt.ylabel('Accuracy'); plt.title('Training & Validation Accuracy')\n",
    "plt.legend(); plt.grid(True)\n",
    "plt.tight_layout(); plt.show()"
   ]
  },
  {
   "cell_type": "markdown",
   "metadata": {},
   "source": [
    "# 6. EVALUASI PADA TEST SET"
   ]
  },
  {
   "cell_type": "code",
   "execution_count": 7,
   "metadata": {
    "execution": {
     "iopub.execute_input": "2025-06-22T19:25:34.616804Z",
     "iopub.status.busy": "2025-06-22T19:25:34.616514Z",
     "iopub.status.idle": "2025-06-22T19:26:30.857339Z",
     "shell.execute_reply": "2025-06-22T19:26:30.856749Z",
     "shell.execute_reply.started": "2025-06-22T19:25:34.616781Z"
    },
    "trusted": true
   },
   "outputs": [
    {
     "name": "stdout",
     "output_type": "stream",
     "text": [
      "\n",
      "Memulai Evaluasi pada Test Set...\n",
      "Model terbaik dimuat dari /kaggle/working/best_vit_malaria_model_pso.pth untuk evaluasi.\n"
     ]
    },
    {
     "data": {
      "application/vnd.jupyter.widget-view+json": {
       "model_id": "91ed19be29114e26902fed8124413b76",
       "version_major": 2,
       "version_minor": 0
      },
      "text/plain": [
       "Evaluasi Test Set:   0%|          | 0/87 [00:00<?, ?it/s]"
      ]
     },
     "metadata": {},
     "output_type": "display_data"
    },
    {
     "name": "stdout",
     "output_type": "stream",
     "text": [
      "\n",
      "Test Accuracy: 0.9797\n"
     ]
    }
   ],
   "source": [
    "print(\"\\nMemulai Evaluasi pada Test Set...\")\n",
    "if os.path.exists(MODEL_SAVE_PATH):\n",
    "    print(f\"Model terbaik dimuat dari {MODEL_SAVE_PATH} untuk evaluasi.\")\n",
    "    model.load_state_dict(torch.load(MODEL_SAVE_PATH, map_location=DEVICE))\n",
    "else:\n",
    "    print(f\"Tidak ada model yang disimpan di {MODEL_SAVE_PATH}. Menggunakan model dari state terakhir.\")\n",
    "\n",
    "model.eval()\n",
    "test_preds_all, test_labels_all = [], []\n",
    "test_pbar = tqdm(test_loader, desc=\"Evaluasi Test Set\")\n",
    "with torch.no_grad():\n",
    "    for inputs, labels in test_pbar:\n",
    "        inputs, labels = inputs.to(DEVICE), labels.to(DEVICE)\n",
    "        outputs = model(pixel_values=inputs)\n",
    "        logits = outputs.logits\n",
    "        _, preds = torch.max(logits, 1)\n",
    "        test_preds_all.extend(preds.cpu().numpy())\n",
    "        test_labels_all.extend(labels.cpu().numpy())\n",
    "\n",
    "test_accuracy = accuracy_score(test_labels_all, test_preds_all)\n",
    "print(f\"\\nTest Accuracy: {test_accuracy:.4f}\")"
   ]
  },
  {
   "cell_type": "code",
   "execution_count": 8,
   "metadata": {
    "execution": {
     "iopub.execute_input": "2025-06-22T19:26:30.858206Z",
     "iopub.status.busy": "2025-06-22T19:26:30.858005Z",
     "iopub.status.idle": "2025-06-22T19:26:31.028563Z",
     "shell.execute_reply": "2025-06-22T19:26:31.027837Z",
     "shell.execute_reply.started": "2025-06-22T19:26:30.858188Z"
    },
    "trusted": true
   },
   "outputs": [
    {
     "name": "stdout",
     "output_type": "stream",
     "text": [
      "\n",
      "Classification Report:\n",
      "              precision    recall  f1-score   support\n",
      "\n",
      " Parasitized       0.99      0.97      0.98      1378\n",
      "  Uninfected       0.97      0.99      0.98      1378\n",
      "\n",
      "    accuracy                           0.98      2756\n",
      "   macro avg       0.98      0.98      0.98      2756\n",
      "weighted avg       0.98      0.98      0.98      2756\n",
      "\n",
      "\n",
      "Confusion Matrix:\n"
     ]
    },
    {
     "data": {
      "image/png": "[encoded data removed]",
      "text/plain": [
       "<Figure size 700x500 with 2 Axes>"
      ]
     },
     "metadata": {},
     "output_type": "display_data"
    },
    {
     "name": "stdout",
     "output_type": "stream",
     "text": [
      "\n",
      "Selesai.\n"
     ]
    }
   ],
   "source": [
    "# Nama kelas dari dataset kustom kita\n",
    "class_names = test_dataset.classes # ['Parasitized', 'Uninfected']\n",
    "print(\"\\nClassification Report:\")\n",
    "try:\n",
    "    report = classification_report(test_labels_all, test_preds_all, target_names=class_names, zero_division=0)\n",
    "    print(report)\n",
    "except Exception as e:\n",
    "    print(f\"Error membuat classification report: {e}\")\n",
    "    report = classification_report(test_labels_all, test_preds_all, zero_division=0) # Coba tanpa target_names\n",
    "    print(report)\n",
    "\n",
    "\n",
    "print(\"\\nConfusion Matrix:\")\n",
    "cm = confusion_matrix(test_labels_all, test_preds_all)\n",
    "plt.figure(figsize=(7, 5))\n",
    "sns.heatmap(cm, annot=True, fmt='d', cmap='Blues', xticklabels=class_names, yticklabels=class_names)\n",
    "plt.xlabel('Predicted Label'); plt.ylabel('True Label'); plt.title('Confusion Matrix - Test Set')\n",
    "plt.show()\n",
    "\n",
    "print(\"\\nSelesai.\")"
   ]
  }
 ],
 "metadata": {
  "kernelspec": {
   "display_name": "Python 3",
   "language": "python",
   "name": "python3"
  },
  "language_info": {
   "codemirror_mode": {
    "name": "ipython",
    "version": 3
   },
   "file_extension": ".py",
   "mimetype": "text/x-python",
   "name": "python",
   "nbconvert_exporter": "python",
   "pygments_lexer": "ipython3",
   "version": "3.11.11"
  }
 },
 "nbformat": 4,
 "nbformat_minor": 4
}
